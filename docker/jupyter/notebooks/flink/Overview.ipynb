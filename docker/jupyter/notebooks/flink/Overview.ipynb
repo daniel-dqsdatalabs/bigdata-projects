{
 "cells": [
  {
   "cell_type": "markdown",
   "id": "13965aa6",
   "metadata": {},
   "source": [
    "### Stream Processing\n",
    "---\n",
    "\n"
   ]
  },
  {
   "cell_type": "code",
   "execution_count": 1,
   "id": "4652efa7-fd9b-405c-83d6-2fc848361ca8",
   "metadata": {},
   "outputs": [
    {
     "data": {
      "text/plain": [
       "JavaObject id=o11"
      ]
     },
     "execution_count": 1,
     "metadata": {},
     "output_type": "execute_result"
    }
   ],
   "source": [
    "from pyflink.common import WatermarkStrategy, Encoder, Types  # type: ignore\n",
    "from pyflink.datastream import StreamExecutionEnvironment, RuntimeExecutionMode  # type: ignore\n",
    "from pyflink.datastream.connectors.kafka import FlinkKafkaConsumer # type: ignore\n",
    "\n",
    "\n",
    "\n",
    "env = StreamExecutionEnvironment.get_execution_environment()\n",
    "env.set_runtime_mode(RuntimeExecutionMode.BATCH)\n",
    "env.add_source(FlinkKafkaConsumer(\n",
    "    topics=\"transactions\",\n",
    "    properties={\"bootstrap.servers\": \"localhost:9092\"},\n",
    "    deserialization_schema=SimpleStringSchema()\n",
    "))\n"
   ]
  },
  {
   "cell_type": "markdown",
   "id": "a97b1556",
   "metadata": {},
   "source": []
  },
  {
   "cell_type": "code",
   "execution_count": null,
   "id": "15ead103-4cf6-474a-ab0c-32b01c7a71a5",
   "metadata": {},
   "outputs": [],
   "source": []
  }
 ],
 "metadata": {
  "kernelspec": {
   "display_name": "Python 3 (ipykernel)",
   "language": "python",
   "name": "python3"
  }
 },
 "nbformat": 4,
 "nbformat_minor": 5
}
